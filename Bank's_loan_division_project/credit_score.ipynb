{
 "cells": [
  {
   "cell_type": "markdown",
   "metadata": {},
   "source": [
   
    "\n",
    "Your project is to prepare a report for a bank’s loan division. You’ll need to find out if a customer’s marital status and number of children has an impact on whether they will default on a loan. The bank already has some data on customers’ credit worthiness.\n",
    "\n",
    "Your report will be considered when building a **credit scoring** of a potential customer. A ** credit scoring ** is used to evaluate the ability of a potential borrower to repay their loan."
   ]
  },
  {
   "cell_type": "markdown",
   "metadata": {},
   "source": [
    "### Step 1. Open the data file and have a look at the general information. "
   ]
  },
  {
   "cell_type": "code",
   "execution_count": 1,
   "metadata": {
    "scrolled": true
   },
   "outputs": [
    {
     "name": "stdout",
     "output_type": "stream",
     "text": [
      "   children  days_employed  dob_years            education  education_id  \\\n",
      "0         1   -8437.673028         42    bachelor's degree             0   \n",
      "1         1   -4024.803754         36  secondary education             1   \n",
      "2         0   -5623.422610         33  Secondary Education             1   \n",
      "3         3   -4124.747207         32  secondary education             1   \n",
      "4         0  340266.072047         53  secondary education             1   \n",
      "\n",
      "       family_status  family_status_id gender income_type  debt  total_income  \\\n",
      "0            married                 0      F    employee     0     40620.102   \n",
      "1            married                 0      F    employee     0     17932.802   \n",
      "2            married                 0      M    employee     0     23341.752   \n",
      "3            married                 0      M    employee     0     42820.568   \n",
      "4  civil partnership                 1      F     retiree     0     25378.572   \n",
      "\n",
      "                   purpose  \n",
      "0    purchase of the house  \n",
      "1             car purchase  \n",
      "2    purchase of the house  \n",
      "3  supplementary education  \n",
      "4        to have a wedding  \n",
      "       children  days_employed  dob_years            education  education_id  \\\n",
      "21520         1   -4529.316663         43  secondary education             1   \n",
      "21521         0  343937.404131         67  secondary education             1   \n",
      "21522         1   -2113.346888         38  secondary education             1   \n",
      "21523         3   -3112.481705         38  secondary education             1   \n",
      "21524         2   -1984.507589         40  secondary education             1   \n",
      "\n",
      "           family_status  family_status_id gender income_type  debt  \\\n",
      "21520  civil partnership                 1      F    business     0   \n",
      "21521            married                 0      F     retiree     0   \n",
      "21522  civil partnership                 1      M    employee     1   \n",
      "21523            married                 0      M    employee     1   \n",
      "21524            married                 0      F    employee     0   \n",
      "\n",
      "       total_income               purpose  \n",
      "21520     35966.698  housing transactions  \n",
      "21521     24959.969     purchase of a car  \n",
      "21522     14347.610              property  \n",
      "21523     39054.888     buying my own car  \n",
      "21524     13127.587          to buy a car  \n",
      "<class 'pandas.core.frame.DataFrame'>\n",
      "RangeIndex: 21525 entries, 0 to 21524\n",
      "Data columns (total 12 columns):\n",
      " #   Column            Non-Null Count  Dtype  \n",
      "---  ------            --------------  -----  \n",
      " 0   children          21525 non-null  int64  \n",
      " 1   days_employed     19351 non-null  float64\n",
      " 2   dob_years         21525 non-null  int64  \n",
      " 3   education         21525 non-null  object \n",
      " 4   education_id      21525 non-null  int64  \n",
      " 5   family_status     21525 non-null  object \n",
      " 6   family_status_id  21525 non-null  int64  \n",
      " 7   gender            21525 non-null  object \n",
      " 8   income_type       21525 non-null  object \n",
      " 9   debt              21525 non-null  int64  \n",
      " 10  total_income      19351 non-null  float64\n",
      " 11  purpose           21525 non-null  object \n",
      "dtypes: float64(2), int64(5), object(5)\n",
      "memory usage: 2.0+ MB\n",
      "None\n",
      "           children  days_employed     dob_years  education_id  \\\n",
      "count  21525.000000   19351.000000  21525.000000  21525.000000   \n",
      "mean       0.538908   63046.497661     43.293380      0.817236   \n",
      "std        1.381587  140827.311974     12.574584      0.548138   \n",
      "min       -1.000000  -18388.949901      0.000000      0.000000   \n",
      "25%        0.000000   -2747.423625     33.000000      1.000000   \n",
      "50%        0.000000   -1203.369529     42.000000      1.000000   \n",
      "75%        1.000000    -291.095954     53.000000      1.000000   \n",
      "max       20.000000  401755.400475     75.000000      4.000000   \n",
      "\n",
      "       family_status_id          debt   total_income  \n",
      "count      21525.000000  21525.000000   19351.000000  \n",
      "mean           0.972544      0.080883   26787.568355  \n",
      "std            1.420324      0.272661   16475.450632  \n",
      "min            0.000000      0.000000    3306.762000  \n",
      "25%            0.000000      0.000000   16488.504500  \n",
      "50%            0.000000      0.000000   23202.870000  \n",
      "75%            1.000000      0.000000   32549.611000  \n",
      "max            4.000000      1.000000  362496.645000  \n"
     ]
    }
   ],
   "source": [
    "import pandas as pd\n",
    "df = pd.read_csv('credit_scoring_eng.csv')\n",
    "print(df.head())\n",
    "print(df.tail())\n",
    "print(df.info())\n",
    "print(df.describe())"
   ]
  },
  {
   "cell_type": "markdown",
   "metadata": {},
   "source": [
    "### Conclusion"
   ]
  },
  {
   "cell_type": "markdown",
   "metadata": {},
   "source": [
    "After examine the general information I realized that in order to answer the main project questions I need only 5 columns: 'children', 'family_status_id', 'total_income', 'purpose' and 'debt'.\n",
    "The next step is to check this columns for missing values: "
   ]
  },
  {
   "cell_type": "markdown",
   "metadata": {},
   "source": [
    "### Step 2. Data preprocessing"
   ]
  },
  {
   "cell_type": "markdown",
   "metadata": {},
   "source": [
    "### Processing missing values"
   ]
  },
  {
   "cell_type": "code",
   "execution_count": 2,
   "metadata": {
    "scrolled": true
   },
   "outputs": [
    {
     "name": "stdout",
     "output_type": "stream",
     "text": [
      "children            0\n",
      "days_employed       0\n",
      "dob_years           0\n",
      "education           0\n",
      "education_id        0\n",
      "family_status       0\n",
      "family_status_id    0\n",
      "gender              0\n",
      "income_type         0\n",
      "debt                0\n",
      "total_income        0\n",
      "purpose             0\n",
      "dtype: int64\n",
      "children            2174\n",
      "days_employed          0\n",
      "dob_years           2174\n",
      "education           2174\n",
      "education_id        2174\n",
      "family_status       2174\n",
      "family_status_id    2174\n",
      "gender              2174\n",
      "income_type         2174\n",
      "debt                2174\n",
      "total_income           0\n",
      "purpose             2174\n",
      "dtype: int64\n",
      "children            0\n",
      "days_employed       0\n",
      "dob_years           0\n",
      "education           0\n",
      "education_id        0\n",
      "family_status       0\n",
      "family_status_id    0\n",
      "gender              0\n",
      "income_type         0\n",
      "debt                0\n",
      "total_income        0\n",
      "purpose             0\n",
      "dtype: int64\n",
      "children            0\n",
      "days_employed       0\n",
      "dob_years           0\n",
      "education           0\n",
      "education_id        0\n",
      "family_status       0\n",
      "family_status_id    0\n",
      "gender              0\n",
      "income_type         0\n",
      "debt                0\n",
      "total_income        0\n",
      "purpose             0\n",
      "dtype: int64\n",
      "children            0\n",
      "days_employed       0\n",
      "dob_years           0\n",
      "education           0\n",
      "education_id        0\n",
      "family_status       0\n",
      "family_status_id    0\n",
      "gender              0\n",
      "income_type         0\n",
      "debt                0\n",
      "total_income        0\n",
      "purpose             0\n",
      "dtype: int64\n",
      "children            47\n",
      "days_employed       44\n",
      "dob_years           47\n",
      "education           47\n",
      "education_id        47\n",
      "family_status       47\n",
      "family_status_id    47\n",
      "gender              47\n",
      "income_type         47\n",
      "debt                47\n",
      "total_income        44\n",
      "purpose             47\n",
      "dtype: int64\n",
      "children            76\n",
      "days_employed       67\n",
      "dob_years           76\n",
      "education           76\n",
      "education_id        76\n",
      "family_status       76\n",
      "family_status_id    76\n",
      "gender              76\n",
      "income_type         76\n",
      "debt                76\n",
      "total_income        67\n",
      "purpose             76\n",
      "dtype: int64\n"
     ]
    }
   ],
   "source": [
    "print(df[df['children'].isnull()].count())\n",
    "print(df[df['total_income'].isnull()].count())\n",
    "print(df[df['family_status'].isna()].count())\n",
    "print(df[df['purpose'].isna()].count())\n",
    "print(df[df['debt'].isnull()].count())\n",
    "print(df.loc[df['children'] == -1].count()) # this values don't make sense\n",
    "print(df.loc[df['children'] == 20].count()) # this values don't make sense\n"
   ]
  },
  {
   "cell_type": "markdown",
   "metadata": {},
   "source": [
    "There is approximately 10% of missing values in 'total_income' column (2174/21525*100 = 10.09%) \n",
    "and less than 1% of \"non sense\" values in children column, which is pretty low and deleting these rows wouldn't really affect the results. \n",
    "I decided to get rid of \"non sense\" values and replace the missing 'total_income' values with median income, which is more represent the real common income on market."
   ]
  },
  {
   "cell_type": "markdown",
   "metadata": {},
   "source": [
    "### Data type replacement"
   ]
  },
  {
   "cell_type": "code",
   "execution_count": 3,
   "metadata": {},
   "outputs": [
    {
     "name": "stdout",
     "output_type": "stream",
     "text": [
      "23202.87\n",
      "           children  days_employed     dob_years  education_id  \\\n",
      "count  21402.000000   19240.000000  21402.000000  21402.000000   \n",
      "mean       0.473180   63159.820777     43.300206      0.817120   \n",
      "std        0.751837  140928.943329     12.579055      0.548741   \n",
      "min        0.000000  -18388.949901      0.000000      0.000000   \n",
      "25%        0.000000   -2747.235601     33.000000      1.000000   \n",
      "50%        0.000000   -1203.934202     42.000000      1.000000   \n",
      "75%        1.000000    -289.740178     53.000000      1.000000   \n",
      "max        5.000000  401755.400475     75.000000      4.000000   \n",
      "\n",
      "       family_status_id          debt   total_income  \n",
      "count      21402.000000  21402.000000   21402.000000  \n",
      "mean           0.973133      0.080927   26429.257048  \n",
      "std            1.420536      0.272729   15678.706707  \n",
      "min            0.000000      0.000000    3306.762000  \n",
      "25%            0.000000      0.000000   17234.608500  \n",
      "50%            0.000000      0.000000   23202.870000  \n",
      "75%            1.000000      0.000000   31291.621750  \n",
      "max            4.000000      1.000000  362496.645000  \n",
      "children            0\n",
      "days_employed       0\n",
      "dob_years           0\n",
      "education           0\n",
      "education_id        0\n",
      "family_status       0\n",
      "family_status_id    0\n",
      "gender              0\n",
      "income_type         0\n",
      "debt                0\n",
      "total_income        0\n",
      "purpose             0\n",
      "dtype: int64\n"
     ]
    }
   ],
   "source": [
    "median = df['total_income'].median()\n",
    "print(median)\n",
    "df['total_income'] = df['total_income'].fillna(value = median)\n",
    "# I exclude all the rows with -1, 20 values from the data:\n",
    "Not = pd.Series([-1, 20])\n",
    "df = df.loc[~df['children'].isin(Not)]\n",
    "# checking the results:\n",
    "print(df.describe()) \n",
    "print(df[df['total_income'].isnull()].count())"
   ]
  },
  {
   "cell_type": "markdown",
   "metadata": {},
   "source": [
    "The data is ready for next step"
   ]
  },
  {
   "cell_type": "markdown",
   "metadata": {},
   "source": [
    "### Processing duplicates"
   ]
  },
  {
   "cell_type": "code",
   "execution_count": 4,
   "metadata": {},
   "outputs": [
    {
     "name": "stdout",
     "output_type": "stream",
     "text": [
      "Number of duplicates before changing upper to lower cases: 54\n",
      "<class 'pandas.core.frame.DataFrame'>\n",
      "Int64Index: 21402 entries, 0 to 21524\n",
      "Data columns (total 12 columns):\n",
      " #   Column            Non-Null Count  Dtype  \n",
      "---  ------            --------------  -----  \n",
      " 0   children          21402 non-null  int64  \n",
      " 1   days_employed     19240 non-null  float64\n",
      " 2   dob_years         21402 non-null  int64  \n",
      " 3   education         21402 non-null  object \n",
      " 4   education_id      21402 non-null  int64  \n",
      " 5   family_status     21402 non-null  object \n",
      " 6   family_status_id  21402 non-null  int64  \n",
      " 7   gender            21402 non-null  object \n",
      " 8   income_type       21402 non-null  object \n",
      " 9   debt              21402 non-null  int64  \n",
      " 10  total_income      21402 non-null  float64\n",
      " 11  purpose           21402 non-null  object \n",
      "dtypes: float64(2), int64(5), object(5)\n",
      "memory usage: 2.1+ MB\n",
      "secondary education    13667\n",
      "bachelor's degree       4698\n",
      "SECONDARY EDUCATION      766\n",
      "Secondary Education      703\n",
      "some college             665\n",
      "BACHELOR'S DEGREE        271\n",
      "Bachelor's Degree        268\n",
      "primary education        250\n",
      "Some College              47\n",
      "SOME COLLEGE              29\n",
      "PRIMARY EDUCATION         17\n",
      "Primary Education         15\n",
      "graduate degree            4\n",
      "GRADUATE DEGREE            1\n",
      "Graduate Degree            1\n",
      "Name: education, dtype: int64\n",
      "married              12302\n",
      "civil partnership     4160\n",
      "unmarried             2799\n",
      "divorced              1189\n",
      "widow / widower        952\n",
      "Name: family_status, dtype: int64\n",
      "F      14154\n",
      "M       7247\n",
      "XNA        1\n",
      "Name: gender, dtype: int64\n",
      "employee                       11050\n",
      "business                        5054\n",
      "retiree                         3839\n",
      "civil servant                   1453\n",
      "entrepreneur                       2\n",
      "unemployed                         2\n",
      "student                            1\n",
      "paternity / maternity leave        1\n",
      "Name: income_type, dtype: int64\n",
      "wedding ceremony                            796\n",
      "having a wedding                            772\n",
      "to have a wedding                           769\n",
      "real estate transactions                    673\n",
      "buy commercial real estate                  661\n",
      "buying property for renting out             651\n",
      "housing transactions                        648\n",
      "transactions with commercial real estate    646\n",
      "housing                                     642\n",
      "purchase of the house                       641\n",
      "purchase of the house for my family         640\n",
      "property                                    632\n",
      "construction of own property                628\n",
      "transactions with my real estate            626\n",
      "building a real estate                      622\n",
      "building a property                         620\n",
      "buy real estate                             619\n",
      "purchase of my own house                    619\n",
      "housing renovation                          609\n",
      "buy residential real estate                 603\n",
      "buying my own car                           504\n",
      "going to university                         496\n",
      "car                                         492\n",
      "second-hand car purchase                    484\n",
      "cars                                        476\n",
      "to own a car                                475\n",
      "buying a second-hand car                    472\n",
      "to buy a car                                470\n",
      "car purchase                                460\n",
      "supplementary education                     457\n",
      "purchase of a car                           455\n",
      "university education                        447\n",
      "to get a supplementary education            445\n",
      "education                                   442\n",
      "getting an education                        441\n",
      "profile education                           432\n",
      "getting higher education                    425\n",
      "to become educated                          412\n",
      "Name: purpose, dtype: int64\n",
      "Number of duplicates after changing upper to lower cases: 71\n",
      "Number of duplicates after dropping: 0\n",
      "wedding ceremony                            790\n",
      "having a wedding                            763\n",
      "to have a wedding                           760\n",
      "real estate transactions                    672\n",
      "buy commercial real estate                  658\n",
      "buying property for renting out             649\n",
      "housing transactions                        647\n",
      "transactions with commercial real estate    645\n",
      "housing                                     641\n",
      "purchase of the house                       640\n",
      "purchase of the house for my family         637\n",
      "property                                    631\n",
      "construction of own property                628\n",
      "transactions with my real estate            623\n",
      "building a real estate                      620\n",
      "building a property                         619\n",
      "purchase of my own house                    619\n",
      "buy real estate                             616\n",
      "housing renovation                          604\n",
      "buy residential real estate                 602\n",
      "buying my own car                           504\n",
      "going to university                         496\n",
      "car                                         491\n",
      "second-hand car purchase                    481\n",
      "cars                                        476\n",
      "to own a car                                473\n",
      "buying a second-hand car                    471\n",
      "to buy a car                                469\n",
      "car purchase                                459\n",
      "supplementary education                     455\n",
      "purchase of a car                           455\n",
      "university education                        446\n",
      "to get a supplementary education            444\n",
      "education                                   442\n",
      "getting an education                        440\n",
      "profile education                           432\n",
      "getting higher education                    425\n",
      "to become educated                          408\n",
      "Name: purpose, dtype: int64\n",
      "Source word - property, after stemming - properti\n",
      "Source word - university, after stemming - univers\n",
      "Source word - education, after stemming - educ\n",
      "Source word - car, after stemming - car\n",
      "Number of duplicates after categorizing: 334\n",
      "real estate    10751\n",
      "own a car       4279\n",
      "education       3988\n",
      "wedding         2313\n",
      "Name: purpose, dtype: int64\n",
      "The final num of duplicates after categorising and droping: 0\n"
     ]
    }
   ],
   "source": [
    "dup_befor = df.duplicated().sum() \n",
    "print('Number of duplicates before changing upper to lower cases:', dup_befor)\n",
    "df.info()\n",
    "# I check all the colums wich are object type for upper and lower cases and what are the column values:\n",
    "print(df['education'].value_counts())\n",
    "print(df['family_status'].value_counts())\n",
    "print(df['gender'].value_counts())\n",
    "print(df['income_type'].value_counts())\n",
    "print(df['purpose'].value_counts())\n",
    "\n",
    "# There is only one colomn detected with upper and lower cases and it's 'education'\n",
    "df['education'] = df['education'].str.lower()\n",
    "dup_after = df.duplicated().sum()\n",
    "print('Number of duplicates after changing upper to lower cases:', dup_after)\n",
    "df = df.drop_duplicates().reset_index(drop=True)\n",
    "dup_after_drop = df.duplicated().sum()\n",
    "print('Number of duplicates after dropping:', dup_after_drop)\n",
    "print(df['purpose'].value_counts())\n",
    "\n",
    "from nltk.stem import SnowballStemmer \n",
    "english_stemmer = SnowballStemmer('english')\n",
    "\n",
    "# I crate a list of words that I wont to know the stemm of :\n",
    "\n",
    "words = ['property', 'university', 'education', 'car']\n",
    "\n",
    "for word in words:\n",
    "    print('Source word - {}, after stemming - {}'.format(word, english_stemmer.stem(word)))\n",
    "    \n",
    "# I unite all the stemmed_word by topic:\n",
    "    \n",
    "for row in df['purpose']:\n",
    "    for word in row.split(' '):\n",
    "        stemmed_word = english_stemmer.stem(word)\n",
    "        if stemmed_word == 'wed':\n",
    "            df.loc[df['purpose'] == row, 'purpose'] = 'wedding'\n",
    "\n",
    "            \n",
    "for row in df['purpose']:\n",
    "    for word in row.split(' '):\n",
    "        stemmed_word = english_stemmer.stem(word)\n",
    "        if stemmed_word == 'rent' or stemmed_word == 'transact' or stemmed_word == 'hous' or stemmed_word == 'real' or stemmed_word == 'properti':\n",
    "            df.loc[df['purpose'] == row, 'purpose'] = 'real estate'\n",
    "            \n",
    "for row in df['purpose']:\n",
    "    for word in row.split(' '):\n",
    "        stemmed_word = english_stemmer.stem(word)\n",
    "        if stemmed_word == 'car':\n",
    "            df.loc[df['purpose'] == row, 'purpose'] = 'own a car' \n",
    "\n",
    "            \n",
    "for row in df['purpose']:\n",
    "    for word in row.split(' '):\n",
    "        stemmed_word = english_stemmer.stem(word)\n",
    "        if stemmed_word == 'educ' or stemmed_word == 'univers':\n",
    "            df.loc[df['purpose'] == row, 'purpose'] = 'education'             \n",
    "                       \n",
    "            \n",
    "dup_after_cat = df.duplicated().sum() # checking for new duplicates after categorizing\n",
    "print('Number of duplicates after categorizing:', dup_after_cat)            \n",
    "print(df['purpose'].value_counts())\n",
    "df = df.drop_duplicates().reset_index(drop=True) # getting rid of the duplicates\n",
    "final_dup_num = df.duplicated().sum() # final cheking\n",
    "print('The final num of duplicates after categorising and droping:', final_dup_num) \n",
    "\n",
    "\n"
   ]
  },
  {
   "cell_type": "markdown",
   "metadata": {},
   "source": [
    "### Conclusion"
   ]
  },
  {
   "cell_type": "markdown",
   "metadata": {},
   "source": [
    "There were same persons who appeared with Upper and Lower cases at the 'education' column, \n",
    "then there were also same persons who apperared at the 'purpose' column with the same purpose but registered under different topic, for example person who's purpose was to get married could appear more than once under: wedding ceremony, having a wedding or to have a wedding.\n",
    "I simplified all the topics and united all persons with the same purpose under one topic,\n",
    "then I got rid of all the duplicates."
   ]
  },
  {
   "cell_type": "markdown",
   "metadata": {},
   "source": [
    "### Categorizing Data"
   ]
  },
  {
   "cell_type": "code",
   "execution_count": 5,
   "metadata": {},
   "outputs": [
    {
     "name": "stdout",
     "output_type": "stream",
     "text": [
      "married              11998\n",
      "civil partnership     4107\n",
      "unmarried             2770\n",
      "divorced              1187\n",
      "widow / widower        935\n",
      "Name: family_status, dtype: int64\n",
      "count     20997.000000\n",
      "mean      26491.489117\n",
      "std       15822.734584\n",
      "min        3306.762000\n",
      "25%       17078.015000\n",
      "50%       23202.870000\n",
      "75%       31517.406000\n",
      "max      362496.645000\n",
      "Name: total_income, dtype: float64\n",
      "       children  days_employed  dob_years            education  education_id  \\\n",
      "0             1   -8437.673028         42    bachelor's degree             0   \n",
      "1             1   -4024.803754         36  secondary education             1   \n",
      "2             0   -5623.422610         33  secondary education             1   \n",
      "3             3   -4124.747207         32  secondary education             1   \n",
      "4             0  340266.072047         53  secondary education             1   \n",
      "...         ...            ...        ...                  ...           ...   \n",
      "20992         1   -4529.316663         43  secondary education             1   \n",
      "20993         0  343937.404131         67  secondary education             1   \n",
      "20994         1   -2113.346888         38  secondary education             1   \n",
      "20995         3   -3112.481705         38  secondary education             1   \n",
      "20996         2   -1984.507589         40  secondary education             1   \n",
      "\n",
      "           family_status  family_status_id gender income_type  debt  \\\n",
      "0                married                 0      F    employee     0   \n",
      "1                married                 0      F    employee     0   \n",
      "2                married                 0      M    employee     0   \n",
      "3                married                 0      M    employee     0   \n",
      "4      civil partnership                 1      F     retiree     0   \n",
      "...                  ...               ...    ...         ...   ...   \n",
      "20992  civil partnership                 1      F    business     0   \n",
      "20993            married                 0      F     retiree     0   \n",
      "20994  civil partnership                 1      M    employee     1   \n",
      "20995            married                 0      M    employee     1   \n",
      "20996            married                 0      F    employee     0   \n",
      "\n",
      "       total_income      purpose married         class_income  \n",
      "0         40620.102  real estate     yes          high income  \n",
      "1         17932.802    own a car     yes     above low income  \n",
      "2         23341.752  real estate     yes  above median income  \n",
      "3         42820.568    education     yes          high income  \n",
      "4         25378.572      wedding      No  above median income  \n",
      "...             ...          ...     ...                  ...  \n",
      "20992     35966.698  real estate      No          high income  \n",
      "20993     24959.969    own a car     yes  above median income  \n",
      "20994     14347.610  real estate      No           low income  \n",
      "20995     39054.888    own a car     yes          high income  \n",
      "20996     13127.587    own a car     yes           low income  \n",
      "\n",
      "[20997 rows x 14 columns]\n"
     ]
    }
   ],
   "source": [
    "\n",
    "# In order to find relation between marital status and repaying a loan,\n",
    "# I need to group all the married persons and separate them from all the other statuses:\n",
    "\n",
    "print(df['family_status'].value_counts())\n",
    "\n",
    "def married_or_not(status):\n",
    "    if status == 'married':\n",
    "        return 'yes'\n",
    "    else:\n",
    "        return 'No'\n",
    "    \n",
    "df['married'] = df['family_status'].apply(married_or_not) \n",
    "\n",
    "# In order to find the relation between income level and repaying a loan, \n",
    "# I need first to categorize income:\n",
    "\n",
    "print(df['total_income'].describe())\n",
    "\n",
    "def cat_income(income):\n",
    "    if income < 17080:\n",
    "        return 'low income'\n",
    "    elif income > 17080 and income < 23202.87:\n",
    "        return 'above low income'\n",
    "    elif income == 23202.87:\n",
    "        return 'median income'\n",
    "    elif income > 23202.87 and income < 31518:\n",
    "        return 'above median income'\n",
    "    elif income > 31518:\n",
    "        return 'high income'  \n",
    "df['class_income'] = df['total_income'].apply(cat_income)    \n",
    "\n",
    "print(df)    \n"
   ]
  },
  {
   "cell_type": "markdown",
   "metadata": {},
   "source": [
    "### Conclusion"
   ]
  },
  {
   "cell_type": "markdown",
   "metadata": {},
   "source": [
    "I did the necessary preparation of categorizing the data in order to answer project questions"
   ]
  },
  {
   "cell_type": "markdown",
   "metadata": {},
   "source": [
    "### Step 3. Answer these questions"
   ]
  },
  {
   "cell_type": "markdown",
   "metadata": {},
   "source": [
    "- Is there a relation between having kids and repaying a loan on time?"
   ]
  },
  {
   "cell_type": "code",
   "execution_count": 6,
   "metadata": {},
   "outputs": [
    {
     "name": "stdout",
     "output_type": "stream",
     "text": [
      "The percentage of people who have children and didn't repaied their loans on time: 9.3%\n",
      "The percentage of people who haven't children and didn't repaied their loans on time: 7.7%\n"
     ]
    }
   ],
   "source": [
    "# I have been asked about relation between having kids and repaying a loan in general, \n",
    "# so I dont need to categorize persons by the number of their children:\n",
    "\n",
    "with_kids = df[df['children'] > 0]\n",
    "\n",
    "with_kids_debt = with_kids[with_kids['debt'] == 1]\n",
    "\n",
    "with_kids_debt_percent = with_kids_debt['children'].count() / len(with_kids)\n",
    "\n",
    "print(\"The percentage of people who have children and didn't repaied their loans on time: {:.1%}\".format(with_kids_debt_percent))\n",
    "\n",
    "without_kids = df[df['children'] == 0]\n",
    "\n",
    "without_kids_debt = without_kids[without_kids['debt'] == 1]\n",
    "\n",
    "without_kids_debt_percent = without_kids_debt['children'].count() / len(without_kids)\n",
    "\n",
    "print(\"The percentage of people who haven't children and didn't repaied their loans on time: {:.1%}\".format(without_kids_debt_percent))\n",
    "\n"
   ]
  },
  {
   "cell_type": "markdown",
   "metadata": {},
   "source": [
    "### Conclusion"
   ]
  },
  {
   "cell_type": "markdown",
   "metadata": {},
   "source": [
    "As we can see from the table above there is lower percent of people with debt who hasn't children,\n",
    "I can assume that people with children need to spend more money because of their children and have less money left to pay their loans."
   ]
  },
  {
   "cell_type": "markdown",
   "metadata": {},
   "source": [
    "\n",
    "\n",
    "- Is there a relation between marital status and repaying a loan on time?"
   ]
  },
  {
   "cell_type": "code",
   "execution_count": 7,
   "metadata": {},
   "outputs": [
    {
     "name": "stdout",
     "output_type": "stream",
     "text": [
      "         debt  total_count debt_percentage\n",
      "married                                   \n",
      "No        805         8999          8.945%\n",
      "yes       925        11998           7.71%\n"
     ]
    }
   ],
   "source": [
    "debt_married_status = df.pivot_table(index = 'married', values = 'debt', aggfunc = 'sum')\n",
    "\n",
    "debt_married_status['total_count'] = df['married'].value_counts()\n",
    "\n",
    "debt_married_status['debt_percentage'] = (debt_married_status['debt'] / debt_married_status['total_count'] * 100).round(decimals = 3).astype(str) + '%'\n",
    "\n",
    "print(debt_married_status.sort_values(['debt_percentage'], ascending = False))"
   ]
  },
  {
   "cell_type": "markdown",
   "metadata": {},
   "source": [
    "### Conclusion"
   ]
  },
  {
   "cell_type": "markdown",
   "metadata": {},
   "source": [
    "As we can see from the table above there is lower percent of people with debt who has married status,\n",
    "so I can assume that married people are more responsible committed persons to pay their debts."
   ]
  },
  {
   "cell_type": "markdown",
   "metadata": {},
   "source": [
    "- Is there a relation between income level and repaying a loan on time?"
   ]
  },
  {
   "cell_type": "code",
   "execution_count": 8,
   "metadata": {},
   "outputs": [
    {
     "name": "stdout",
     "output_type": "stream",
     "text": [
      "                     debt  total_count debt_percentage\n",
      "class_income                                          \n",
      "median income         168         1758          9.556%\n",
      "above median income   388         4371          8.877%\n",
      "above low income      384         4369          8.789%\n",
      "low income            416         5250          7.924%\n",
      "high income           374         5249          7.125%\n"
     ]
    }
   ],
   "source": [
    "debt_by_income = df.pivot_table(index = 'class_income', values = 'debt', aggfunc = 'sum')\n",
    "\n",
    "debt_by_income['total_count'] = df['class_income'].value_counts()\n",
    "\n",
    "debt_by_income['debt_percentage'] = (debt_by_income['debt'] / debt_by_income['total_count'] * 100).round(decimals = 3).astype(str) + '%'\n",
    "\n",
    "print(debt_by_income.sort_values(['debt_percentage'], ascending = False))"
   ]
  },
  {
   "cell_type": "markdown",
   "metadata": {},
   "source": [
    "### Conclusion"
   ]
  },
  {
   "cell_type": "markdown",
   "metadata": {},
   "source": [
    "As we can see from the table above there is positive relation between income level and repaying a loan only for persons who are at the high income level. The people with high income have the smallest debt percent, all other income categories are mixed up and have no relation between income level and repaying a loan. "
   ]
  },
  {
   "cell_type": "markdown",
   "metadata": {},
   "source": [
    "- How do different loan purposes affect on-time repayment of the loan?"
   ]
  },
  {
   "cell_type": "code",
   "execution_count": 9,
   "metadata": {},
   "outputs": [
    {
     "name": "stdout",
     "output_type": "stream",
     "text": [
      "             debt  total_count debt_percentage\n",
      "purpose                                       \n",
      "own a car     399         4245          9.399%\n",
      "education     369         3939          9.368%\n",
      "wedding       183         2295          7.974%\n",
      "real estate   779        10518          7.406%\n"
     ]
    }
   ],
   "source": [
    "loan_purpose = df.pivot_table(index = 'purpose', values = 'debt', aggfunc = 'sum')\n",
    "\n",
    "loan_purpose['total_count'] = df['purpose'].value_counts()\n",
    "\n",
    "loan_purpose['debt_percentage'] = (loan_purpose['debt'] / loan_purpose['total_count'] * 100).round(decimals = 3).astype(str) + '%'\n",
    "\n",
    "print(loan_purpose.sort_values(['debt_percentage'], ascending = False))"
   ]
  },
  {
   "cell_type": "markdown",
   "metadata": {},
   "source": [
    "### Conclusion"
   ]
  },
  {
   "cell_type": "markdown",
   "metadata": {},
   "source": [
    "As we can see from the table above people who take loan for real estate purpose take mach seriously their obligation and pay their loans on time, I can asume that most of them are grown people and have stable income unlike students that are mostly young and having more trouble to pay their debts.   "
   ]
  },
  {
   "cell_type": "markdown",
   "metadata": {},
   "source": [
    "### Step 4. General conclusion"
   ]
  },
  {
   "cell_type": "markdown",
   "metadata": {},
   "source": [
    "As if I was a bank manager who incharge to permite loans for his clients, this research gives me the probability of a potential borrower to repay their loan and make the decision much easier when it lands on facts. I feel that I provided useful and important information."
   ]
  },
  {
   "cell_type": "markdown",
   "metadata": {},
   "source": [
    "### Project Readiness Checklist\n",
    "\n",
    "Put 'x' in the completed points. Then press Shift + Enter."
   ]
  },
  {
   "cell_type": "markdown",
   "metadata": {
    "raw_mimetype": "text/x-python"
   },
   "source": [
    "- [x]  file open;\n",
    "- [x]  file examined;\n",
    "- [x]  missing values defined;\n",
    "- [x]  missing values are filled;\n",
    "- [x]  an explanation of which missing value types were detected;\n",
    "- [x]  explanation for the possible causes of missing values;\n",
    "- [x]  an explanation of how the blanks are filled;\n",
    "- [x]  replaced the real data type with an integer;\n",
    "- [x]  an explanation of which method is used to change the data type and why;\n",
    "- [x]  duplicates deleted;\n",
    "- [x]  an explanation of which method is used to find and remove duplicates;\n",
    "- [x]  description of the possible reasons for the appearance of duplicates in the data;\n",
    "- [x]  data is categorized;\n",
    "- [x]  an explanation of the principle of data categorization;\n",
    "- [x]  an answer to the question \"Is there a relation between having kids and repaying a loan on time?\";\n",
    "- [x]  an answer to the question \" Is there a relation between marital status and repaying a loan on time?\";\n",
    "- [x]   an answer to the question \" Is there a relation between income level and repaying a loan on time?\";\n",
    "- [x]  an answer to the question \" How do different loan purposes affect on-time repayment of the loan?\"\n",
    "- [x]  conclusions are present on each stage;\n",
    "- [x]  a general conclusion is made."
   ]
  },
  {
   "cell_type": "code",
   "execution_count": null,
   "metadata": {},
   "outputs": [],
   "source": []
  }
 ],
 "metadata": {
  "celltoolbar": "Raw Cell Format",
  "kernelspec": {
   "display_name": "Python 3",
   "language": "python",
   "name": "python3"
  },
  "language_info": {
   "codemirror_mode": {
    "name": "ipython",
    "version": 3
   },
   "file_extension": ".py",
   "mimetype": "text/x-python",
   "name": "python",
   "nbconvert_exporter": "python",
   "pygments_lexer": "ipython3",
   "version": "3.8.3"
  },
  "toc": {
   "base_numbering": 1,
   "nav_menu": {},
   "number_sections": true,
   "sideBar": true,
   "skip_h1_title": true,
   "title_cell": "Table of Contents",
   "title_sidebar": "Contents",
   "toc_cell": false,
   "toc_position": {},
   "toc_section_display": true,
   "toc_window_display": false
  }
 },
 "nbformat": 4,
 "nbformat_minor": 4
}
